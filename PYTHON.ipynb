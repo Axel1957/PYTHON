{
  "nbformat": 4,
  "nbformat_minor": 0,
  "metadata": {
    "colab": {
      "name": "Untitled",
      "provenance": [],
      "collapsed_sections": []
    },
    "kernelspec": {
      "name": "python3",
      "display_name": "Python 3"
    },
    "language_info": {
      "name": "python"
    }
  },
  "cells": [
    {
      "cell_type": "markdown",
      "metadata": {
        "id": "MW2nL91cYE5u"
      },
      "source": [
        "![alt text](https://www.icog.es/cursos/wp-content/uploads/2020/09/phyton.png)\n",
        "#HISTORY OF PYTHON"
      ]
    },
    {
      "cell_type": "markdown",
      "metadata": {
        "id": "Zr0QKx3bYJ6k"
      },
      "source": [
        "Without a doubt, python is one of the most used programming languages in terms of web development and computer applications, as well as some of the characteristics of this language such as the simplicity when reading its syntax or the fact that is multiplatform has called the attention of millions of userd to start using or learning about this language. But really, What is Python?"
      ]
    },
    {
      "cell_type": "markdown",
      "metadata": {
        "id": "EE4jNWPtbQ4_"
      },
      "source": [
        "Python is a programming language idealized in the early '80s and developed in the early '90s by a Dutch researcher named Guido van Rossum, to be more exact in December 1989. The reason why this programming language was developed was Due to the dissatisfaction he felt when working with the ABC programming language (general-purpose imperative programming language and programming environment, used in the CWI research center, where Guido worked) in the project that was entrusted to him. Guido, realizing the limitations and problems encountered when working with the ABC language, decided to create a programming language that would overcome all those limitations, that is where Python would emerge."
      ]
    },
    {
      "cell_type": "markdown",
      "metadata": {
        "id": "Ij6qszjBBGq1"
      },
      "source": [
        "#PYTHON VERSIONS"
      ]
    },
    {
      "cell_type": "markdown",
      "metadata": {
        "id": "SGRaNwnCBXAP"
      },
      "source": [
        "The first version of Python (0.9) would apper in 1991 published in alt-sources, it already included some sections such as classes with inheritance, exception handling, functions, and its main feature, modular operation. But it was not until 1994 when version 1.2 was published, this was the last version made at the CWI research center. He continued his work at the Corporation for National Research (CNRI9 in Virginia. For version 1.4, we see new features, many inspired by Modula-3, and also built-in support for complex numbers."
      ]
    },
    {
      "cell_type": "markdown",
      "metadata": {
        "id": "FutKojpvOQ2l"
      },
      "source": [
        "By 2000, the core Python development team moved to BeOpen.com to form the BeOpen Python Labs team. Version 1.6 released at CNRI includes substantially longer license than the versions released at CWI. The new license included a clause indicating that it was governed by the laws of Virginia"
      ]
    },
    {
      "cell_type": "markdown",
      "metadata": {
        "id": "oNHCCXRzXYYA"
      },
      "source": [
        "The Free Software Foundation (FSF), a foundation created by Stallman with the aim of promoting Free Software, argued that the clause was incompatible with the GNU GPL. So they agreed to change Python to a Free Software license, which would make it GPL compliant. GPL is a widely used copyright license in the world of free and open source software, and it guarantees end users the freedom to use, study, share, and modify the software."
      ]
    },
    {
      "cell_type": "markdown",
      "metadata": {
        "id": "-mpxafABZRDf"
      },
      "source": [
        "This is why Python 1.6.1 is basically the same as version 1.6, with a couple of bug fixes and a new GPL-compliant license. For Python 2.0, list generation was included, one of the most important characteristics of the Haskell functional programming language. In addition, it included a garbage collection system capable of collecting cyclic references."
      ]
    },
    {
      "cell_type": "markdown",
      "metadata": {
        "id": "txqV5iRekUU7"
      },
      "source": [
        "In 2001, the Python Software Foundation was created, which as of Python 2.1 owns all the code, documentation, and specifications of the language."
      ]
    },
    {
      "cell_type": "markdown",
      "metadata": {
        "id": "Yrs-6Uw6ncB3"
      },
      "source": [
        "Version 3.0 finally is here, it was designed to correct fundamental flaws in the language design. Python 3.0 basically has the same essence as the previus versions, however, Python as a language has accumulated new and redundant ways of programming the same task. This version focuses on eliminating duplicate constructors and modules in order to comply with the rule of \"having only one obvious way of doing things\"."
      ]
    },
    {
      "cell_type": "markdown",
      "metadata": {
        "id": "I7FZnTXK_zZj"
      },
      "source": [
        "![alt text](https://static.platzi.com/media/user_upload/Screenshot%202018-03-13%2013.04.50-622d164e-7d9c-4114-95f1-aedd94dfa836.jpg)"
      ]
    },
    {
      "cell_type": "markdown",
      "metadata": {
        "id": "CsHNuj6VKxqV"
      },
      "source": [
        "#INTRODUCTION TO PRINT, IF-ELSE AND LOOPS IN PYTHON"
      ]
    },
    {
      "cell_type": "markdown",
      "metadata": {
        "id": "7tZU7BNeSqfU"
      },
      "source": [
        "#PRINT"
      ]
    },
    {
      "cell_type": "markdown",
      "metadata": {
        "id": "NZPaHyglKxrq"
      },
      "source": [
        "Undoubtedly one of the main actions that a program has to perform is to display information on the screen, for example, text, numbers, etc. To display text in Python, use the print () function, whose syntax is:\n",
        "\n",
        ">>>print('text')\n",
        "text\n",
        "\n",
        "Pay attention here, when you are going to display text, the inside of the parentheses of print goes with quotes:\n",
        ">>> print ('text')\n",
        "\n",
        "**NUMBERS**\n",
        "\n"
      ]
    },
    {
      "cell_type": "markdown",
      "metadata": {
        "id": "t4tBHqDPYpxg"
      },
      "source": [
        "If instead of text, what you want is to show numbers or the result of any operation, you must keep this rule in mind:\n",
        "\n",
        "When you want to show numbers or operations, the inside of the parentheses goes without quotes:\n",
        "\n",
        ">>>print(1 + 2)\n",
        "3\n",
        "\n",
        ">>>a = 4 * 5\n",
        ">>>print(a)\n",
        "20"
      ]
    },
    {
      "cell_type": "markdown",
      "metadata": {
        "id": "mN15KYCVaNy8"
      },
      "source": [
        "**NUMBERS AND TEXTS**\n",
        "\n",
        "The print () function allows you to include variables or expressions as arguments, which allows you to combine text and variables:\n",
        "\n",
        "nombre = \"Alicia\"\n",
        "edad = 35\n",
        "print(\"Me llamo\", nombre, \"y tengo\", edad, \"años.\")"
      ]
    },
    {
      "cell_type": "markdown",
      "metadata": {
        "id": "cBM25bkEay72"
      },
      "source": [
        "**STRINGS \"f\"**\n",
        "\n",
        "Starting with version 3.6 of Python, a new notation for strings called strings \"f\" was added (PEP 498), which makes it easier to enter variables and expressions in strings. A string \"f\" contains variables and expressions enclosed in braces \"{}\" that are directly substituted for their value. Strings \"f\" are recognized because they begin with a letter f before the opening quotation mark.\n",
        "\n",
        "name = \"Alicia\"\n",
        "age = 35\n",
        "print(f\"My name is {name} I am years old {age} age.\")"
      ]
    },
    {
      "cell_type": "markdown",
      "metadata": {
        "id": "QYVYaPhla9IC"
      },
      "source": [
        "#IF-ELSE"
      ]
    },
    {
      "cell_type": "markdown",
      "metadata": {
        "id": "gMMl17uMbAeA"
      },
      "source": [
        "The if ... else function or control structure allows a program to execute some instructions when a condition is met and other instructions when that condition is not met. We know that in English \"if\" means \"if\" (condition) and \"else\" means \"if not\". So the command in Python is written like this:\n",
        "\n",
        "if condition:\n",
        "    here are the orders that are executed if the condition is true.\n",
        "These can occupy several lines\n",
        "else:\n",
        "    and here are the orders that are executed if the condition is\n",
        "    false and that can also occupy several lines\n",
        "\n",
        "The execution would be the following:\n",
        "\n",
        "If the result is True, only statement block 1 is executed\n",
        "If the result is False then only statement block 2 is executed.\n",
        "\n",
        "Here is an example:\n",
        "\n",
        "age = int (input (\"How old are you?\"))\n",
        "if age <18:\n",
        "    print (\"You are a minor\")\n",
        "else:\n",
        "    print (\"You are of legal age\")\n",
        "print (\"Until next time!\")\n",
        "\n",
        "This will be the result:\n",
        "\n",
        "How old are you? 17\n",
        "You are a minor\n",
        "Until next time!"
      ]
    },
    {
      "cell_type": "markdown",
      "metadata": {
        "id": "muUxb4ZKb67j"
      },
      "source": [
        "#LOOPS"
      ]
    },
    {
      "cell_type": "markdown",
      "metadata": {
        "id": "-opB2ckLcML6"
      },
      "source": [
        "A loop, in any programming language, is basically a set of instructions that are repeated indefinitely until the condition assigned to the loop stops being fulfilled. In Python, we can mainly find 2 loops, the FOR and the WHILE."
      ]
    },
    {
      "cell_type": "markdown",
      "metadata": {
        "id": "vB5Y6WzDdVss"
      },
      "source": [
        "**FOR**"
      ]
    },
    {
      "cell_type": "markdown",
      "metadata": {
        "id": "dXadx5YodXwc"
      },
      "source": [
        "In general, a loop is a control structure that repeats a block of instructions. A for loop is a loop that repeats the statement block a predetermined number of times. The block of instructions that is repeated is usually called the body of the loop, and each repetition is usually called an iteration.\n",
        "\n",
        "The syntax of a for loop is as follows:\n",
        "\n",
        "for variable in iterable element (list, string, range, etc.):\n",
        "    loop body"
      ]
    },
    {
      "cell_type": "markdown",
      "metadata": {
        "id": "TzBrDCTajA9s"
      },
      "source": [
        "**WHILE**\n",
        "\n",
        "The while loop is executed as long as a condition is true (True), let's see an example in which we ask the user to enter an option from a menu and then we ask for another option again until they enter the text quit and exit the program.\n",
        "\n",
        "opc = ''\n",
        "while opc! = 'quit':\n",
        "    opc = input (\"Enter an option:\")\n",
        "    print (\"You chose:\" + opc)"
      ]
    }
  ]
}